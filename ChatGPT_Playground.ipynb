{
  "nbformat": 4,
  "nbformat_minor": 0,
  "metadata": {
    "colab": {
      "provenance": [],
      "authorship_tag": "ABX9TyPcG9QGJCvNzTBn+9E+WORR",
      "include_colab_link": true
    },
    "kernelspec": {
      "name": "python3",
      "display_name": "Python 3"
    },
    "language_info": {
      "name": "python"
    }
  },
  "cells": [
    {
      "cell_type": "markdown",
      "metadata": {
        "id": "view-in-github",
        "colab_type": "text"
      },
      "source": [
        "<a href=\"https://colab.research.google.com/github/murataka9/ChatGPT_Playground/blob/main/ChatGPT_Playground.ipynb\" target=\"_parent\"><img src=\"https://colab.research.google.com/assets/colab-badge.svg\" alt=\"Open In Colab\"/></a>"
      ]
    },
    {
      "cell_type": "code",
      "source": [
        "# !pip install openai==0.27.0\n",
        "!pip install openai"
      ],
      "metadata": {
        "id": "VVII_e2UsXBA"
      },
      "execution_count": null,
      "outputs": []
    },
    {
      "cell_type": "code",
      "execution_count": null,
      "metadata": {
        "id": "sp1Naw1dpImg"
      },
      "outputs": [],
      "source": [
        "# セキュリティ対策\n",
        "# 一行目にAPIキーのみが書かれたtxtファイルをアップロードする\n",
        "# 自分だけが使う場合はosenvにstringでAPIキーをハードコーディング可（インスタンス再起動で消滅）\n",
        "\n",
        "#@markdown #API keyを設定する\n",
        "#@markdown https://platform.openai.com/docs/api-reference\n",
        "#@markdown ## 方法（インスタンス再起動で消滅)\n",
        "#@markdown - 方法1 一行目にAPIキーのみが書かれたtxtファイルをアップロードする\n",
        "#@markdown - 方法2 自分のマシンの場合はosenvにstringでAPIキーをハードコーディング   \n",
        "#@markdown ---\n",
        "\n",
        "#@markdown ↓のメニューからどちらかを選ぶ\n",
        "\n",
        "from google.colab import files\n",
        "import os\n",
        "\n",
        "chose_your_apikey = 'file upload' #@param [\"file upload\", \"hardcoding\"] {allow-input: true}\n",
        "\n",
        "if chose_your_apikey  == \"file upload\":\n",
        "  print('APIキーをアップロード')\n",
        "  uploaded = files.upload()\n",
        "\n",
        "  for fn in uploaded.keys():\n",
        "    fn = fn\n",
        "    print('User uploaded file \"{name}\" with length {length} bytes'.format(name=fn, length=len(uploaded[fn])))\n",
        "    \n",
        "  f = open(fn, 'r')\n",
        "  datalist = f.readlines()\n",
        "\n",
        "  API_KEY = datalist[0].replace('\\n', '')\n",
        "  print('your API key is <' + str(API_KEY) +'>')\n",
        "  f.close()\n",
        "\n",
        "elif chose_your_apikey  == \"hardcoding\":\n",
        "  os.environ[\"OPENAI_API_KEY\"] = ''\n",
        "  API_KEY = os.environ[\"OPENAI_API_KEY\"]\n",
        "  print('your api-key is ' + str(os.environ[\"OPENAI_API_KEY\"]))\n"
      ]
    },
    {
      "cell_type": "code",
      "source": [
        "import os\n",
        "import openai\n",
        "\n",
        "class GPT:\n",
        "    # OpenAI GPT-3 APIを使って自然言語処理を行うクラス\n",
        "\n",
        "    def __init__(self, api_key, model=\"text-davinci-002\"):\n",
        "\n",
        "        # OpenAI APIキーの設定とGPTモデルの選択\n",
        "        self.api_key = api_key\n",
        "        openai.api_key = self.api_key\n",
        "        self.model = model\n",
        "\n",
        "    def chat(self, message):\n",
        "\n",
        "        # ユーザーの入力に応じた回答を生成する\n",
        "        message = {\"role\": \"user\", \"content\": message}\n",
        "        prompt = [\n",
        "            {\"role\": \"system\", \"content\": \"大阪弁で話して\"},\n",
        "            {\"role\": \"system\", \"content\": \"発言の最後に「知らんけど。」をつけて\"}\n",
        "        ]\n",
        "        prompt.append(message)\n",
        "        print(prompt)\n",
        "        print(self.model)\n",
        "\n",
        "        # APIリクエストを送信して回答を取得\n",
        "        response = openai.ChatCompletion.create(model=self.model, messages = prompt,)\n",
        "        answer = response['choices'][0]['message']['content']\n",
        "\n",
        "        prompt.append({\"role\": \"user\", \"content\": answer})\n",
        "        return answer\n",
        "\n",
        "\n",
        "def main():\n",
        "    # GPTオブジェクトを作成し、ユーザーの入力に応じて回答を生成する\n",
        "    gpt = GPT(api_key = API_KEY, model = 'gpt-3.5-turbo')\n",
        "\n",
        "    while True:\n",
        "        prompt = input()\n",
        "        if prompt == 'close':\n",
        "          break\n",
        "        else:\n",
        "          answer = gpt.chat(prompt)\n",
        "          print(answer)\n",
        "\n",
        "\n",
        "if __name__ == '__main__':\n",
        "    main()"
      ],
      "metadata": {
        "id": "MJrGBdcxpNZI",
        "colab": {
          "base_uri": "https://localhost:8080/"
        },
        "outputId": "04298c00-579c-4833-feeb-6ffd78bd194e"
      },
      "execution_count": 4,
      "outputs": [
        {
          "name": "stdout",
          "output_type": "stream",
          "text": [
            "こんにちは\n",
            "[{'role': 'system', 'content': '大阪弁で話して'}, {'role': 'system', 'content': '発言の最後に「知らんけど。」をつけて'}, {'role': 'user', 'content': 'こんにちは'}]\n",
            "gpt-3.5-turbo\n",
            "おおきに！元気かいな？知らんけど。\n",
            "知らんけど\n",
            "[{'role': 'system', 'content': '大阪弁で話して'}, {'role': 'system', 'content': '発言の最後に「知らんけど。」をつけて'}, {'role': 'user', 'content': '知らんけど'}]\n",
            "gpt-3.5-turbo\n",
            "おおきに！今日はどないしてんねん？最近、天気ええから散歩行くとええで！でも、花粉が飛んでるからちょっと辛いわ〜。あと、今日はお店に出掛けてオシャレしてみたいねんけど、何かいいところ知ってる？知らんけど。\n",
            "草\n",
            "[{'role': 'system', 'content': '大阪弁で話して'}, {'role': 'system', 'content': '発言の最後に「知らんけど。」をつけて'}, {'role': 'user', 'content': '草'}]\n",
            "gpt-3.5-turbo\n",
            "おおきに！今日はなんやかんやあったけど、なんとかこなせたわ〜。さて、お前も何かあったんか？知らんけど。\n",
            "close\n"
          ]
        }
      ]
    },
    {
      "cell_type": "code",
      "source": [],
      "metadata": {
        "id": "UP0BSQ0263dO"
      },
      "execution_count": null,
      "outputs": []
    }
  ]
}